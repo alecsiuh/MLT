{
 "cells": [
  {
   "cell_type": "markdown",
   "id": "870b5dc1584a7ffe",
   "metadata": {
    "collapsed": false
   },
   "source": [
    "# Machine Learning Techniques"
   ]
  },
  {
   "cell_type": "markdown",
   "id": "3c5a76f1fc665ad8",
   "metadata": {
    "collapsed": false
   },
   "source": [
    "## Imports"
   ]
  },
  {
   "cell_type": "code",
   "execution_count": 1,
   "id": "initial_id",
   "metadata": {
    "ExecuteTime": {
     "end_time": "2024-01-04T14:20:11.872803600Z",
     "start_time": "2024-01-04T14:20:11.833287500Z"
    },
    "collapsed": true
   },
   "outputs": [],
   "source": [
    "import pandas as pd \n",
    "import seaborn as sns\n",
    "from matplotlib import pyplot as plt"
   ]
  },
  {
   "cell_type": "markdown",
   "id": "d5d75325abf08f2b",
   "metadata": {
    "collapsed": false
   },
   "source": [
    "# Data Processing  \n",
    "This section makes sure that the dataset we chose is ready for machine learning algorithms. First we import the downloaded dataset that contains the columns 'index', 'PatientId', 'age', 'gender', 'bmi', 'bloodpressure', 'diabetic', 'children', 'smoker', 'region', and 'claim'. Then, we'll print general statistics about the dataframe, like column names, now many null values are there for each of the column, count, mean, standard deviation etc."
   ]
  },
  {
   "cell_type": "code",
   "execution_count": 2,
   "id": "95db1368306d3901",
   "metadata": {
    "ExecuteTime": {
     "end_time": "2024-01-04T14:18:03.929286100Z",
     "start_time": "2024-01-04T14:18:03.837503100Z"
    },
    "collapsed": false
   },
   "outputs": [
    {
     "data": {
      "text/html": [
       "<div>\n",
       "<style scoped>\n",
       "    .dataframe tbody tr th:only-of-type {\n",
       "        vertical-align: middle;\n",
       "    }\n",
       "\n",
       "    .dataframe tbody tr th {\n",
       "        vertical-align: top;\n",
       "    }\n",
       "\n",
       "    .dataframe thead th {\n",
       "        text-align: right;\n",
       "    }\n",
       "</style>\n",
       "<table border=\"1\" class=\"dataframe\">\n",
       "  <thead>\n",
       "    <tr style=\"text-align: right;\">\n",
       "      <th></th>\n",
       "      <th>index</th>\n",
       "      <th>PatientID</th>\n",
       "      <th>age</th>\n",
       "      <th>gender</th>\n",
       "      <th>bmi</th>\n",
       "      <th>bloodpressure</th>\n",
       "      <th>diabetic</th>\n",
       "      <th>children</th>\n",
       "      <th>smoker</th>\n",
       "      <th>region</th>\n",
       "      <th>claim</th>\n",
       "    </tr>\n",
       "  </thead>\n",
       "  <tbody>\n",
       "    <tr>\n",
       "      <th>0</th>\n",
       "      <td>0</td>\n",
       "      <td>1</td>\n",
       "      <td>39.0</td>\n",
       "      <td>male</td>\n",
       "      <td>23.2</td>\n",
       "      <td>91</td>\n",
       "      <td>Yes</td>\n",
       "      <td>0</td>\n",
       "      <td>No</td>\n",
       "      <td>southeast</td>\n",
       "      <td>1121.87</td>\n",
       "    </tr>\n",
       "    <tr>\n",
       "      <th>1</th>\n",
       "      <td>1</td>\n",
       "      <td>2</td>\n",
       "      <td>24.0</td>\n",
       "      <td>male</td>\n",
       "      <td>30.1</td>\n",
       "      <td>87</td>\n",
       "      <td>No</td>\n",
       "      <td>0</td>\n",
       "      <td>No</td>\n",
       "      <td>southeast</td>\n",
       "      <td>1131.51</td>\n",
       "    </tr>\n",
       "    <tr>\n",
       "      <th>2</th>\n",
       "      <td>2</td>\n",
       "      <td>3</td>\n",
       "      <td>NaN</td>\n",
       "      <td>male</td>\n",
       "      <td>33.3</td>\n",
       "      <td>82</td>\n",
       "      <td>Yes</td>\n",
       "      <td>0</td>\n",
       "      <td>No</td>\n",
       "      <td>southeast</td>\n",
       "      <td>1135.94</td>\n",
       "    </tr>\n",
       "    <tr>\n",
       "      <th>3</th>\n",
       "      <td>3</td>\n",
       "      <td>4</td>\n",
       "      <td>NaN</td>\n",
       "      <td>male</td>\n",
       "      <td>33.7</td>\n",
       "      <td>80</td>\n",
       "      <td>No</td>\n",
       "      <td>0</td>\n",
       "      <td>No</td>\n",
       "      <td>northwest</td>\n",
       "      <td>1136.40</td>\n",
       "    </tr>\n",
       "    <tr>\n",
       "      <th>4</th>\n",
       "      <td>4</td>\n",
       "      <td>5</td>\n",
       "      <td>NaN</td>\n",
       "      <td>male</td>\n",
       "      <td>34.1</td>\n",
       "      <td>100</td>\n",
       "      <td>No</td>\n",
       "      <td>0</td>\n",
       "      <td>No</td>\n",
       "      <td>northwest</td>\n",
       "      <td>1137.01</td>\n",
       "    </tr>\n",
       "  </tbody>\n",
       "</table>\n",
       "</div>"
      ],
      "text/plain": [
       "   index  PatientID   age gender   bmi  bloodpressure diabetic  children  \\\n",
       "0      0          1  39.0   male  23.2             91      Yes         0   \n",
       "1      1          2  24.0   male  30.1             87       No         0   \n",
       "2      2          3   NaN   male  33.3             82      Yes         0   \n",
       "3      3          4   NaN   male  33.7             80       No         0   \n",
       "4      4          5   NaN   male  34.1            100       No         0   \n",
       "\n",
       "  smoker     region    claim  \n",
       "0     No  southeast  1121.87  \n",
       "1     No  southeast  1131.51  \n",
       "2     No  southeast  1135.94  \n",
       "3     No  northwest  1136.40  \n",
       "4     No  northwest  1137.01  "
      ]
     },
     "execution_count": 2,
     "metadata": {},
     "output_type": "execute_result"
    }
   ],
   "source": [
    "df = pd.read_csv('./insurance_data.csv',delimiter=',', decimal='.')\n",
    "df.head()"
   ]
  },
  {
   "cell_type": "code",
   "execution_count": 3,
   "id": "f5d97016",
   "metadata": {},
   "outputs": [
    {
     "data": {
      "text/html": [
       "<div>\n",
       "<style scoped>\n",
       "    .dataframe tbody tr th:only-of-type {\n",
       "        vertical-align: middle;\n",
       "    }\n",
       "\n",
       "    .dataframe tbody tr th {\n",
       "        vertical-align: top;\n",
       "    }\n",
       "\n",
       "    .dataframe thead th {\n",
       "        text-align: right;\n",
       "    }\n",
       "</style>\n",
       "<table border=\"1\" class=\"dataframe\">\n",
       "  <thead>\n",
       "    <tr style=\"text-align: right;\">\n",
       "      <th></th>\n",
       "      <th>index</th>\n",
       "      <th>PatientID</th>\n",
       "      <th>age</th>\n",
       "      <th>bmi</th>\n",
       "      <th>bloodpressure</th>\n",
       "      <th>children</th>\n",
       "      <th>claim</th>\n",
       "    </tr>\n",
       "  </thead>\n",
       "  <tbody>\n",
       "    <tr>\n",
       "      <th>count</th>\n",
       "      <td>1340.000000</td>\n",
       "      <td>1340.000000</td>\n",
       "      <td>1335.000000</td>\n",
       "      <td>1340.000000</td>\n",
       "      <td>1340.000000</td>\n",
       "      <td>1340.000000</td>\n",
       "      <td>1340.000000</td>\n",
       "    </tr>\n",
       "    <tr>\n",
       "      <th>mean</th>\n",
       "      <td>669.500000</td>\n",
       "      <td>670.500000</td>\n",
       "      <td>38.078652</td>\n",
       "      <td>30.668955</td>\n",
       "      <td>94.157463</td>\n",
       "      <td>1.093284</td>\n",
       "      <td>13252.745642</td>\n",
       "    </tr>\n",
       "    <tr>\n",
       "      <th>std</th>\n",
       "      <td>386.968991</td>\n",
       "      <td>386.968991</td>\n",
       "      <td>11.102924</td>\n",
       "      <td>6.106735</td>\n",
       "      <td>11.434712</td>\n",
       "      <td>1.205334</td>\n",
       "      <td>12109.609288</td>\n",
       "    </tr>\n",
       "    <tr>\n",
       "      <th>min</th>\n",
       "      <td>0.000000</td>\n",
       "      <td>1.000000</td>\n",
       "      <td>18.000000</td>\n",
       "      <td>16.000000</td>\n",
       "      <td>80.000000</td>\n",
       "      <td>0.000000</td>\n",
       "      <td>1121.870000</td>\n",
       "    </tr>\n",
       "    <tr>\n",
       "      <th>25%</th>\n",
       "      <td>334.750000</td>\n",
       "      <td>335.750000</td>\n",
       "      <td>29.000000</td>\n",
       "      <td>26.275000</td>\n",
       "      <td>86.000000</td>\n",
       "      <td>0.000000</td>\n",
       "      <td>4719.685000</td>\n",
       "    </tr>\n",
       "    <tr>\n",
       "      <th>50%</th>\n",
       "      <td>669.500000</td>\n",
       "      <td>670.500000</td>\n",
       "      <td>38.000000</td>\n",
       "      <td>30.400000</td>\n",
       "      <td>92.000000</td>\n",
       "      <td>1.000000</td>\n",
       "      <td>9369.615000</td>\n",
       "    </tr>\n",
       "    <tr>\n",
       "      <th>75%</th>\n",
       "      <td>1004.250000</td>\n",
       "      <td>1005.250000</td>\n",
       "      <td>47.000000</td>\n",
       "      <td>34.700000</td>\n",
       "      <td>99.000000</td>\n",
       "      <td>2.000000</td>\n",
       "      <td>16604.305000</td>\n",
       "    </tr>\n",
       "    <tr>\n",
       "      <th>max</th>\n",
       "      <td>1339.000000</td>\n",
       "      <td>1340.000000</td>\n",
       "      <td>60.000000</td>\n",
       "      <td>53.100000</td>\n",
       "      <td>140.000000</td>\n",
       "      <td>5.000000</td>\n",
       "      <td>63770.430000</td>\n",
       "    </tr>\n",
       "  </tbody>\n",
       "</table>\n",
       "</div>"
      ],
      "text/plain": [
       "             index    PatientID          age          bmi  bloodpressure  \\\n",
       "count  1340.000000  1340.000000  1335.000000  1340.000000    1340.000000   \n",
       "mean    669.500000   670.500000    38.078652    30.668955      94.157463   \n",
       "std     386.968991   386.968991    11.102924     6.106735      11.434712   \n",
       "min       0.000000     1.000000    18.000000    16.000000      80.000000   \n",
       "25%     334.750000   335.750000    29.000000    26.275000      86.000000   \n",
       "50%     669.500000   670.500000    38.000000    30.400000      92.000000   \n",
       "75%    1004.250000  1005.250000    47.000000    34.700000      99.000000   \n",
       "max    1339.000000  1340.000000    60.000000    53.100000     140.000000   \n",
       "\n",
       "          children         claim  \n",
       "count  1340.000000   1340.000000  \n",
       "mean      1.093284  13252.745642  \n",
       "std       1.205334  12109.609288  \n",
       "min       0.000000   1121.870000  \n",
       "25%       0.000000   4719.685000  \n",
       "50%       1.000000   9369.615000  \n",
       "75%       2.000000  16604.305000  \n",
       "max       5.000000  63770.430000  "
      ]
     },
     "execution_count": 3,
     "metadata": {},
     "output_type": "execute_result"
    }
   ],
   "source": [
    "df.describe()"
   ]
  },
  {
   "cell_type": "markdown",
   "id": "66d5220d3550e1f0",
   "metadata": {
    "collapsed": false
   },
   "source": [
    "#### Handle missing values\n",
    "We'll handle missing values by first checking how many missing values there are in each column."
   ]
  },
  {
   "cell_type": "code",
   "execution_count": 4,
   "id": "928081d4879bfa9f",
   "metadata": {
    "ExecuteTime": {
     "end_time": "2024-01-04T14:18:08.298128300Z",
     "start_time": "2024-01-04T14:18:08.268687700Z"
    },
    "collapsed": false
   },
   "outputs": [
    {
     "data": {
      "text/plain": [
       "index            0\n",
       "PatientID        0\n",
       "age              5\n",
       "gender           0\n",
       "bmi              0\n",
       "bloodpressure    0\n",
       "diabetic         0\n",
       "children         0\n",
       "smoker           0\n",
       "region           3\n",
       "claim            0\n",
       "dtype: int64"
      ]
     },
     "execution_count": 4,
     "metadata": {},
     "output_type": "execute_result"
    }
   ],
   "source": [
    "df.isnull().sum() "
   ]
  },
  {
   "cell_type": "markdown",
   "id": "074c24e0",
   "metadata": {},
   "source": [
    "The columns **age** and **region** include missing values. We will handle those by replacing the age NaN value with the median of the column and the region with the most common one. If the dataset contains extreme values or outliers, using the median (the middle value of a column) it won't be affected by these extreme values."
   ]
  },
  {
   "cell_type": "code",
   "execution_count": 6,
   "id": "53f68a4e",
   "metadata": {},
   "outputs": [],
   "source": [
    "median_age = df['age'].median()\n",
    "df['age'].fillna(median_age, inplace=True)\n",
    "\n",
    "most_common_region = df['region'].mode()[0]\n",
    "df['region'].fillna(most_common_region, inplace=True)"
   ]
  },
  {
   "cell_type": "markdown",
   "id": "d5324b6b",
   "metadata": {},
   "source": [
    "## Identify variations between each column"
   ]
  },
  {
   "cell_type": "code",
   "execution_count": 7,
   "id": "4536edac",
   "metadata": {},
   "outputs": [
    {
     "data": {
      "text/plain": [
       "index            1340\n",
       "PatientID        1340\n",
       "age                43\n",
       "gender              2\n",
       "bmi               275\n",
       "bloodpressure      61\n",
       "diabetic            2\n",
       "children            6\n",
       "smoker              2\n",
       "region              4\n",
       "claim            1337\n",
       "dtype: int64"
      ]
     },
     "execution_count": 7,
     "metadata": {},
     "output_type": "execute_result"
    }
   ],
   "source": [
    "df.nunique()"
   ]
  },
  {
   "cell_type": "markdown",
   "id": "ffe8a379",
   "metadata": {},
   "source": [
    "Based on the data presented in the dataset, I chose to try and predict the 'clain' (making it the target variable) using a regression problem."
   ]
  },
  {
   "cell_type": "markdown",
   "id": "d7333dc0533dc7c2",
   "metadata": {
    "collapsed": false
   },
   "source": [
    "## Identifying outliers\n",
    "\n",
    "Outliers can significantly impact the results of data analysis. First, we will box plot the numerical values to visually check out if there are any values that are way too high, or way too low based on the rest of the values."
   ]
  },
  {
   "cell_type": "code",
   "execution_count": 11,
   "id": "b9763e23",
   "metadata": {},
   "outputs": [
    {
     "data": {
      "text/plain": [
       "index              int64\n",
       "PatientID          int64\n",
       "age              float64\n",
       "gender            object\n",
       "bmi              float64\n",
       "bloodpressure      int64\n",
       "diabetic          object\n",
       "children           int64\n",
       "smoker            object\n",
       "region            object\n",
       "claim            float64\n",
       "dtype: object"
      ]
     },
     "execution_count": 11,
     "metadata": {},
     "output_type": "execute_result"
    }
   ],
   "source": [
    "df.dtypes"
   ]
  },
  {
   "cell_type": "code",
   "execution_count": 12,
   "id": "72ed934025f3af71",
   "metadata": {
    "ExecuteTime": {
     "end_time": "2024-01-04T14:19:59.472283200Z",
     "start_time": "2024-01-04T14:19:57.751453500Z"
    },
    "collapsed": false
   },
   "outputs": [
    {
     "data": {
      "image/png": "[encoded data removed]",
      "text/plain": [
       "<Figure size 1500x500 with 3 Axes>"
      ]
     },
     "metadata": {},
     "output_type": "display_data"
    }
   ],
   "source": [
    "plt.figure(figsize=(15, 5))\n",
    "\n",
    "# distributions of 'age', 'bmi', and 'bloodpressure'\n",
    "plt.subplot(1, 3, 1)\n",
    "sns.boxplot(y=df['age'])\n",
    "plt.title('Age Distribution')\n",
    "\n",
    "plt.subplot(1, 3, 2)\n",
    "sns.boxplot(y=df['bmi'])\n",
    "plt.title('BMI Distribution')\n",
    "\n",
    "plt.subplot(1, 3, 3)\n",
    "sns.boxplot(y=df['bloodpressure'])\n",
    "plt.title('Blood Pressure Distribution')\n",
    "\n",
    "plt.tight_layout()\n",
    "plt.show()"
   ]
  },
  {
   "cell_type": "markdown",
   "id": "af8f5597",
   "metadata": {},
   "source": [
    "1. **Age**: The distribution appears normal with no significant outliers.\n",
    "2. **BMI**: There are a few outliers on the higher end of the BMI scale.\n",
    "3. **Blood Pressure**: Some outliers are present, particularly on the lower and higher ends."
   ]
  },
  {
   "cell_type": "markdown",
   "id": "85b8b3b0f2369267",
   "metadata": {
    "collapsed": false
   },
   "source": [
    "## Removing outliers\n",
    "For this, we will use the Interquartile Range. This means removing values too far from the central quartiles (below the 1st quartile - 1.5 * IQR and above the 3rd quartile + 1.5 * IQR)."
   ]
  },
  {
   "cell_type": "code",
   "execution_count": 13,
   "id": "c114ea646f3f87b6",
   "metadata": {
    "ExecuteTime": {
     "end_time": "2024-01-04T14:20:19.034069300Z",
     "start_time": "2024-01-04T14:20:17.855348700Z"
    },
    "collapsed": false
   },
   "outputs": [
    {
     "data": {
      "image/png": "[encoded data removed]",
      "text/plain": [
       "<Figure size 1000x400 with 2 Axes>"
      ]
     },
     "metadata": {},
     "output_type": "display_data"
    }
   ],
   "source": [
    "# create a function that removes outliers, so that it can be reused\n",
    "def cap_outliers(series):\n",
    "    Q1 = series.quantile(0.25)\n",
    "    Q3 = series.quantile(0.75)\n",
    "    IQR = Q3 - Q1\n",
    "    lower_bound = Q1 - 1.5 * IQR\n",
    "    upper_bound = Q3 + 1.5 * IQR\n",
    "    return series.clip(lower=lower_bound, upper=upper_bound)\n",
    " \n",
    "df['bmi'] = cap_outliers(df['bmi'])\n",
    "df['bloodpressure'] = cap_outliers(df['bloodpressure'])\n",
    "\n",
    "# checking the distributions after removing the outliers\n",
    "plt.figure(figsize=(10, 4))\n",
    "\n",
    "plt.subplot(1, 2, 1)\n",
    "sns.boxplot(y=df['bmi'])\n",
    "plt.title('BMI Distribution after Outlier Capping')\n",
    "\n",
    "plt.subplot(1, 2, 2)\n",
    "sns.boxplot(y=df['bloodpressure'])\n",
    "plt.title('Blood Pressure Distribution after Outlier Capping')\n",
    "\n",
    "plt.tight_layout()\n",
    "plt.show()"
   ]
  },
  {
   "cell_type": "markdown",
   "id": "2a59b4c0",
   "metadata": {},
   "source": [
    "## Saving the processed data into a new CSV file for future use\n",
    "\n",
    "In this notebook I've imported the original insurance_data.csv file and I processed and prepared the data to be suitable for future usage. I identified missing values, handled them, plotted the data to find the outliers and removed them for a more accurate prediction, and so on."
   ]
  },
  {
   "cell_type": "code",
   "execution_count": 15,
   "id": "3e87652d",
   "metadata": {
    "ExecuteTime": {
     "end_time": "2024-01-04T14:22:54.964135800Z",
     "start_time": "2024-01-04T14:22:54.933680200Z"
    }
   },
   "outputs": [],
   "source": [
    "df.to_csv('./Clean_Insurance_Data.csv', index=False) "
   ]
  }
 ],
 "metadata": {
  "kernelspec": {
   "display_name": "Python 3",
   "language": "python",
   "name": "python3"
  },
  "language_info": {
   "codemirror_mode": {
    "name": "ipython",
    "version": 3
   },
   "file_extension": ".py",
   "mimetype": "text/x-python",
   "name": "python",
   "nbconvert_exporter": "python",
   "pygments_lexer": "ipython3",
   "version": "3.11.5"
  }
 },
 "nbformat": 4,
 "nbformat_minor": 5
}
